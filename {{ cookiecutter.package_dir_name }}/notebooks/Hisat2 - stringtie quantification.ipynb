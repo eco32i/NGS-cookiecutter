{
 "cells": [
  {
   "cell_type": "markdown",
   "metadata": {},
   "source": [
    "## Align reads to genome using `HISAT2`"
   ]
  },
  {
   "cell_type": "code",
   "execution_count": null,
   "metadata": {},
   "outputs": [],
   "source": [
    "# Needed these variables to restart the analysis from this point\n",
    "\n",
    "REF_DIR=\"/home/ilya/data1/ref/Caenorhabditis_elegans\"\n",
    "\n",
    "# Here BASE_DIR and BASE_DIR1 point to the data location\n",
    "# for the runs we want to combine\n",
    "BASE_DIR=\"../data\"\n",
    "BASE_DIR1=\"../data/2018-07-25\"\n",
    "INDEX=\"$REF_DIR/wbcel235/genome\"\n",
    "GENES=\"$REF_DIR/Ensembl/WBcel235/Annotation/Genes/genes.gtf\"\n",
    "\n",
    "# Sample naming patters (e.g. cm01-cm08)\n",
    "PATTERN=\"cm\"\n",
    "\n",
    "#stringtie_exe=\"$HOME/bin/stringtie-1.3.3b.Linux_x86_64/stringtie\"\n",
    "# This should point to the appropriate versions of hisat2 and stringtie executables\n",
    "stringtie_exe=\"$HOME/bin/stringtie-1.3.5.Linux_x86_64/stringtie\"\n",
    "hisat_exe=\"$HOME/bin/hisat2-2.1.0/hisat2\""
   ]
  },
  {
   "cell_type": "code",
   "execution_count": null,
   "metadata": {},
   "outputs": [],
   "source": [
    "for sample in $(ls $BASE_DIR | grep $PATTERN)\n",
    "do\n",
    "    sample_dir=\"$BASE_DIR/$sample\"\n",
    "    result_dir=\"../results/$sample\"\n",
    "    \n",
    "    if [ ! -d \"$result_dir\" ]; then\n",
    "        echo \"Creating $result_dir ...\"\n",
    "        mkdir -p $result_dir\n",
    "    fi\n",
    "    \n",
    "    echo \"Unzipping reads for $sample ...\"\n",
    "    read1=$sample_dir/read1.fifo\n",
    "    read2=$sample_dir/read2.fifo\n",
    "    mkfifo $read1\n",
    "    mkfifo $read2\n",
    "    \n",
    "    zcat $sample_dir/R1.fastq.gz > $read1 &\n",
    "    zcat $sample_dir/R2.fastq.gz > $read2 &\n",
    "    \n",
    "    $hisat_exe -p 30 --dta --quiet \\\n",
    "        -x $INDEX \\\n",
    "        -1 $read1 -2 $read2 \\\n",
    "    | samtools view -bhS - > \"$result_dir/$sample.bam\"\n",
    "    \n",
    "    rm $sample_dir/*.fifo \n",
    "    \n",
    "done"
   ]
  },
  {
   "cell_type": "markdown",
   "metadata": {},
   "source": [
    "## Assemble transcripts and estimate abundances"
   ]
  },
  {
   "cell_type": "code",
   "execution_count": null,
   "metadata": {},
   "outputs": [],
   "source": [
    "$stringtie_exe --merge -p 30 -G $GENES \\\n",
    "    -o \"../ref/merged_combined.gtf\" \"../ref/mergelist_combined.txt\""
   ]
  },
  {
   "cell_type": "code",
   "execution_count": null,
   "metadata": {},
   "outputs": [],
   "source": [
    "for i in $(seq -f \"%02g\" 1 2 5)\n",
    "do\n",
    "    sample=\"$PATTERN$i\"\n",
    "    result_dir=\"../results/$sample\"\n",
    "    $stringtie_exe -e -B -p 30 -G \"../ref/merged_combined.gtf\" \\\n",
    "        -o \"$result_dir/${sample}_combined.gtf\" \\\n",
    "        \"$result_dir/$sample.sorted.bam\"\n",
    "done"
   ]
  },
  {
   "cell_type": "code",
   "execution_count": null,
   "metadata": {},
   "outputs": [],
   "source": [
    "for i in $(seq -f \"%02g\" 2 2 6)\n",
    "do\n",
    "    sample=\"$PATTERN$i\"\n",
    "    result_dir=\"../results/$sample\"\n",
    "    $stringtie_exe -e -B -p 30 -G \"../ref/merged_combined.gtf\" \\\n",
    "        -o \"$result_dir/$sample.gtf\" \\\n",
    "        \"$result_dir/$sample.sorted.bam\"\n",
    "done"
   ]
  },
  {
   "cell_type": "code",
   "execution_count": null,
   "metadata": {},
   "outputs": [],
   "source": [
    "for i in $(seq -f \"%02g\" 7 2 11)\n",
    "do\n",
    "    sample=\"$PATTERN$i\"\n",
    "    result_dir=\"$BASE_DIR1/results/$sample\"\n",
    "    $stringtie_exe -e -B -p 30 -G \"../ref/merged_combined.gtf\" \\\n",
    "        -o \"$result_dir/${sample}_combined.gtf\" \\\n",
    "        \"$result_dir/$sample.sorted.bam\"\n",
    "done\n",
    "\n",
    "for i in $(seq -f \"%02g\" 8 2 12)\n",
    "do\n",
    "    sample=\"$PATTERN$i\"\n",
    "    result_dir=\"$BASE_DIR1/results/$sample\"\n",
    "    $stringtie_exe -e -B -p 30 -G \"../ref/merged_combined.gtf\" \\\n",
    "        -o \"$result_dir/$sample.gtf\" \\\n",
    "        \"$result_dir/$sample.sorted.bam\"\n",
    "done"
   ]
  }
 ],
 "metadata": {
  "kernelspec": {
   "display_name": "Bash",
   "language": "bash",
   "name": "bash"
  },
  "language_info": {
   "codemirror_mode": "shell",
   "file_extension": ".sh",
   "mimetype": "text/x-sh",
   "name": "bash"
  }
 },
 "nbformat": 4,
 "nbformat_minor": 1
}
