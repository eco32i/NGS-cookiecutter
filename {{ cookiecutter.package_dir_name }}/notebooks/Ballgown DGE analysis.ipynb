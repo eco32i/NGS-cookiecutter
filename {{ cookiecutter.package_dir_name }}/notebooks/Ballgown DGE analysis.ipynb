{
 "cells": [
  {
   "cell_type": "code",
   "execution_count": null,
   "metadata": {},
   "outputs": [],
   "source": [
    "library(devtools)\n",
    "library(ballgown)\n",
    "library(RSkittleBrewer)\n",
    "library(genefilter)\n",
    "library(dplyr)"
   ]
  },
  {
   "cell_type": "code",
   "execution_count": null,
   "metadata": {},
   "outputs": [],
   "source": [
    "# Change this to reflect your sample directories and conditions\n",
    "\n",
    "ids <- c('ig01', 'ig02', 'ig03', 'ig04', 'ig05', 'ig06', 'ig07', 'ig08', 'ig09', 'ig10', 'ig11', 'ig12')\n",
    "condition <- c('co', 'aci', 'co', 'aci', 'co', 'aci', 'co', 'aci', 'co', 'aci', 'co', 'aci')\n",
    "pheno_data <-data.frame(ids, condition)\n",
    "pheno_data"
   ]
  },
  {
   "cell_type": "code",
   "execution_count": null,
   "metadata": {},
   "outputs": [],
   "source": [
    "base_dir <- \"../results\"\n",
    "sample_id <- head(dir(file.path(base_dir), pattern='^ig'), 6)\n",
    "ig_dirs <- sapply(sample_id, function(id) file.path(base_dir, id))\n",
    "base_dir1 <- \"../data/2018-07-25/results\"\n",
    "sample_id <- tail(dir(file.path(base_dir1), pattern='^ig'), 6)\n",
    "ig_dirs1 <- sapply(sample_id, function(id) file.path(base_dir1, id))\n",
    "ig_dirs <- setNames(c(ig_dirs, ig_dirs1), pheno_data$ids)\n",
    "ig_dirs"
   ]
  },
  {
   "cell_type": "code",
   "execution_count": null,
   "metadata": {},
   "outputs": [],
   "source": [
    "bg <- ballgown(samples=ig_dirs, pData=pheno_data)"
   ]
  },
  {
   "cell_type": "code",
   "execution_count": null,
   "metadata": {},
   "outputs": [],
   "source": [
    "bg_filt <- subset(bg, \"rowVars(texpr(bg)) >1\", genomesubset=TRUE)"
   ]
  },
  {
   "cell_type": "code",
   "execution_count": null,
   "metadata": {},
   "outputs": [],
   "source": [
    "res_tx = stattest(bg_filt, feature=\"transcript\", covariate=\"condition\", getFC=TRUE, meas=\"FPKM\")"
   ]
  },
  {
   "cell_type": "code",
   "execution_count": null,
   "metadata": {},
   "outputs": [],
   "source": [
    "#full_tx = stattest(bg, feature=\"transcript\", covariate=\"condition\", getFC=TRUE, meas=\"FPKM\")\n",
    "#full_tx = data.frame(geneNames=ballgown::geneNames(bg),\n",
    "#                   geneIDs=ballgown::geneIDs(bg), full_tx)\n",
    "#full_tx = arrange(full_tx,pval)\n",
    "#head(full_tx)"
   ]
  },
  {
   "cell_type": "code",
   "execution_count": null,
   "metadata": {},
   "outputs": [],
   "source": [
    "#write.csv(full_tx, \"../results/stat_tx.full.bg.csv\", row.names=FALSE)"
   ]
  },
  {
   "cell_type": "code",
   "execution_count": null,
   "metadata": {},
   "outputs": [],
   "source": [
    "res_gene = stattest(bg_filt, feature=\"gene\", covariate=\"condition\", getFC=TRUE, meas=\"FPKM\")"
   ]
  },
  {
   "cell_type": "code",
   "execution_count": null,
   "metadata": {},
   "outputs": [],
   "source": [
    "res_tx = data.frame(geneNames=ballgown::geneNames(bg_filt),\n",
    "                   geneIDs=ballgown::geneIDs(bg_filt), res_tx)"
   ]
  },
  {
   "cell_type": "code",
   "execution_count": null,
   "metadata": {},
   "outputs": [],
   "source": [
    "res_tx = arrange(res_tx,pval)\n",
    "res_gene = arrange(res_gene,pval)"
   ]
  },
  {
   "cell_type": "code",
   "execution_count": null,
   "metadata": {},
   "outputs": [],
   "source": [
    "head(res_tx)"
   ]
  },
  {
   "cell_type": "code",
   "execution_count": null,
   "metadata": {},
   "outputs": [],
   "source": [
    "head(res_gene)"
   ]
  },
  {
   "cell_type": "code",
   "execution_count": null,
   "metadata": {},
   "outputs": [],
   "source": [
    "write.csv(res_tx, \"../results/stat_tx.combined.bg.csv\", row.names=FALSE)\n",
    "write.csv(res_gene, \"../results/stat_gene.combined.bg.csv\", row.names=FALSE)"
   ]
  },
  {
   "cell_type": "code",
   "execution_count": null,
   "metadata": {},
   "outputs": [],
   "source": [
    "tropical = c(\"darkorange\", \"dodgerblue\", \"hotpink\", \"limegreen\", \"yellow\")\n",
    "palette(tropical)"
   ]
  },
  {
   "cell_type": "code",
   "execution_count": null,
   "metadata": {},
   "outputs": [],
   "source": [
    "fpkm = texpr(bg_filt, meas=\"FPKM\")\n",
    "fpkm = log2(1+fpkm)\n",
    "boxplot(fpkm, col=as.numeric(pheno_data$condition), las=2, ylab=\"log2(1+FPKM)\")"
   ]
  },
  {
   "cell_type": "code",
   "execution_count": null,
   "metadata": {},
   "outputs": [],
   "source": [
    "subset(res_tx, res_tx$qval<0.05)"
   ]
  },
  {
   "cell_type": "code",
   "execution_count": null,
   "metadata": {},
   "outputs": [],
   "source": [
    "subset(res_gene, res_gene$qval<0.05)"
   ]
  },
  {
   "cell_type": "code",
   "execution_count": null,
   "metadata": {},
   "outputs": [],
   "source": [
    "ge = gexpr(bg)\n",
    "head(ge)"
   ]
  },
  {
   "cell_type": "code",
   "execution_count": null,
   "metadata": {},
   "outputs": [],
   "source": [
    "pca_data = prcomp(t(ge))\n",
    "pca_data_pct = round(100*pca_data$sdev^2/sum(pca_data$sdev^2),1)"
   ]
  },
  {
   "cell_type": "code",
   "execution_count": null,
   "metadata": {},
   "outputs": [],
   "source": [
    "df_pca = data.frame(PC1=pca_data$x[,1], PC2=pca_data$x[,2], sample=colnames(ge), condition=rep(c('Control', 'Aci'), each=3))"
   ]
  },
  {
   "cell_type": "code",
   "execution_count": null,
   "metadata": {},
   "outputs": [],
   "source": [
    "library(ggplot2)\n",
    "library(ggrepel)"
   ]
  },
  {
   "cell_type": "code",
   "execution_count": null,
   "metadata": {},
   "outputs": [],
   "source": [
    "ggplot(df_pca, aes(PC1,PC2,color=condition))+geom_point(size=8)"
   ]
  },
  {
   "cell_type": "code",
   "execution_count": null,
   "metadata": {},
   "outputs": [],
   "source": [
    "subset(res_tx, res_tx$geneNames==\"gst-4\")"
   ]
  },
  {
   "cell_type": "code",
   "execution_count": null,
   "metadata": {},
   "outputs": [],
   "source": [
    "# Below are examples of transcript plots\n",
    "# Change samples according to your data layout"
   ]
  },
  {
   "cell_type": "code",
   "execution_count": null,
   "metadata": {},
   "outputs": [],
   "source": [
    "plotTranscripts('MSTRG.8637', bg, \n",
    "    samples=c('ig01', 'ig02', 'ig03', 'ig04', 'ig05', 'ig06',\n",
    "             'ig07', 'ig08', 'ig09', 'ig10', 'ig11', 'ig12'), \n",
    "    meas='FPKM', colorby='transcript')"
   ]
  },
  {
   "cell_type": "code",
   "execution_count": null,
   "metadata": {},
   "outputs": [],
   "source": [
    "plotTranscripts('MSTRG.16530', bg, \n",
    "    samples=c('ig01', 'ig02', 'ig03', 'ig04', 'ig05', 'ig06',\n",
    "             'ig07', 'ig08', 'ig09', 'ig10', 'ig11', 'ig12'), \n",
    "    meas='FPKM', colorby='transcript')"
   ]
  },
  {
   "cell_type": "code",
   "execution_count": null,
   "metadata": {},
   "outputs": [],
   "source": [
    "plotTranscripts('MSTRG.5924', bg, \n",
    "    samples=c('ig01', 'ig02', 'ig03', 'ig04', 'ig05', 'ig06',\n",
    "             'ig07', 'ig08', 'ig09', 'ig10', 'ig11', 'ig12'), \n",
    "    meas='FPKM', colorby='transcript')"
   ]
  },
  {
   "cell_type": "code",
   "execution_count": null,
   "metadata": {},
   "outputs": [],
   "source": [
    "plotTranscripts('MSTRG.5642', bg, \n",
    "    samples=c('ig01', 'ig02', 'ig03', 'ig04', 'ig05', 'ig06'), \n",
    "    meas='FPKM', colorby='transcript')"
   ]
  },
  {
   "cell_type": "code",
   "execution_count": null,
   "metadata": {},
   "outputs": [],
   "source": [
    "plotTranscripts('MSTRG.9574', bg, \n",
    "    samples=c('ig01', 'ig02', 'ig03', 'ig04', 'ig05', 'ig06'), \n",
    "    meas='FPKM', colorby='transcript')"
   ]
  },
  {
   "cell_type": "code",
   "execution_count": null,
   "metadata": {},
   "outputs": [],
   "source": []
  }
 ],
 "metadata": {
  "kernelspec": {
   "display_name": "R",
   "language": "R",
   "name": "ir"
  },
  "language_info": {
   "codemirror_mode": "r",
   "file_extension": ".r",
   "mimetype": "text/x-r-source",
   "name": "R",
   "pygments_lexer": "r",
   "version": "3.5.2"
  }
 },
 "nbformat": 4,
 "nbformat_minor": 2
}
