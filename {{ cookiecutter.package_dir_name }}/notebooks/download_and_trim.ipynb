{
 "cells": [
  {
   "cell_type": "markdown",
   "metadata": {},
   "source": [
    "# Download data from basespace"
   ]
  },
  {
   "cell_type": "code",
   "execution_count": null,
   "metadata": {},
   "outputs": [],
   "source": [
    "PROJECT=\"{{ cookiecutter.basespace_project }}\"\n",
    "PATTERN=\"{{ cookiecutter.sample_pattern }}\"\n",
    "BSDIR=\"{{ cookiecutter.basespace_dir }}\"\n",
    "\n",
    "RUNID=\"{{ cookiecutter.run_id }}\"\n",
    "NPROC=\"{{ cookiecutter.num_proc }}\"\n",
    "\n",
    "{% if cookiecutter.use_trimmomatic=='y' %}\n",
    "# Trimming parameters\n",
    "clipfile=\"{{ cookiecutter.clip_file }}\"\n",
    "winlength=\"{{ cookiecutter.trim_win_len }}\"\n",
    "winqual=\"{{ cookiecutter.trim_win_qual }}\"\n",
    "minlength=\"{{ cookiecutter.trim_min_len }}\"\n",
    "{% endif %}\n",
    "\n",
    "# Local stuff\n",
    "base_dir=\"../data\"\n",
    "trimmer=$(which TrimmomaticPE)"
   ]
  },
  {
   "cell_type": "code",
   "execution_count": null,
   "metadata": {},
   "outputs": [],
   "source": [
    "basedir=\"$BSDIR/Projects/$PROJECT/Samples\"\n",
    "\n",
    "for sample in \"$basedir/$RUNID\"*\n",
    "do\n",
    "    sampleid=$(echo $sample | cut -d '-' -f 3)\n",
    "    mkdir -p ../data/$sampleid\n",
    "    echo \"Copying $sample into ../data/$sampleid\"\n",
    "    cp $sample/Files/*.fastq.gz ../data/$sampleid\n",
    "done\n"
   ]
  },
  {
   "cell_type": "code",
   "execution_count": null,
   "metadata": {
    "scrolled": false
   },
   "outputs": [],
   "source": [
    "ls -lah ../data/*"
   ]
  },
  {
   "cell_type": "markdown",
   "metadata": {},
   "source": [
    "# Merge lanes in each sample"
   ]
  },
  {
   "cell_type": "code",
   "execution_count": null,
   "metadata": {},
   "outputs": [],
   "source": [
    "for sample in $(ls $base_dir | grep \"$PATTERN\")\n",
    "do\n",
    "    sample_dir=$base_dir/$sample\n",
    "    echo \"Merging lanes in\" $sample_dir\n",
    "    \n",
    "    cat $sample_dir/*R1_001* > $sample_dir/R1.fastq.gz\n",
    "    cat $sample_dir/*R2_001* > $sample_dir/R2.fastq.gz\n",
    "done"
   ]
  },
  {
   "cell_type": "markdown",
   "metadata": {},
   "source": [
    "## Cleanup"
   ]
  },
  {
   "cell_type": "code",
   "execution_count": null,
   "metadata": {},
   "outputs": [],
   "source": [
    "for sample in $(ls $base_dir | grep \"$PATTERN\")\n",
    "do\n",
    "    sample_dir=$base_dir/$sample\n",
    "    echo \"Merging lanes in\" $sample_dir\n",
    "    \n",
    "    rm -rf $sample_dir/${PATTERN}*.fastq.gz\n",
    "    ls -lah $sample_dir\n",
    "done"
   ]
  },
  {
   "cell_type": "markdown",
   "metadata": {},
   "source": [
    "## Quality trimming"
   ]
  },
  {
   "cell_type": "code",
   "execution_count": null,
   "metadata": {
    "scrolled": false
   },
   "outputs": [],
   "source": [
    "for sample in $(ls $base_dir | grep \"$PATTERN\")\n",
    "do\n",
    "    sample_dir=../data/$sample\n",
    "    trim_dir=$sample_dir/trim\n",
    "    \n",
    "    if [ ! -d \"$trim_dir\" ]; then\n",
    "        echo \"Creating $trim_dir ...\"\n",
    "        mkdir $trim_dir\n",
    "    fi\n",
    "    \n",
    "    $trimmer -threads $NPROC $sample_dir/R1.fastq.gz $sample_dir/R2.fastq.gz \\\n",
    "        $trim_dir/R1_pe.fastq.gz $trim_dir/R1_se.fastq.gz \\\n",
    "        $trim_dir/R2_pe.fastq.gz $trim_dir/R2_se.fastq.gz \\\n",
    "        ILLUMINACLIP:$clipfile:2:30:10 \\\n",
    "        SLIDINGWINDOW:$winlength:$winqual MINLEN:$minlength\n",
    "\n",
    "done"
   ]
  },
  {
   "cell_type": "code",
   "execution_count": null,
   "metadata": {},
   "outputs": [],
   "source": []
  }
 ],
 "metadata": {
  "kernelspec": {
   "display_name": "Bash",
   "language": "bash",
   "name": "bash"
  },
  "language_info": {
   "codemirror_mode": "shell",
   "file_extension": ".sh",
   "mimetype": "text/x-sh",
   "name": "bash"
  }
 },
 "nbformat": 4,
 "nbformat_minor": 2
}
